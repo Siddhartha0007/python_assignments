{
 "cells": [
  {
   "cell_type": "code",
   "execution_count": 1,
   "id": "082be51c",
   "metadata": {},
   "outputs": [],
   "source": [
    "import pandas as pd\n",
    "import scipy\n",
    "import numpy as np\n",
    "from scipy import stats\n",
    "import matplotlib.pyplot as plt\n",
    "import seaborn as sns\n",
    "import warnings\n",
    "warnings.filterwarnings(\"ignore\")"
   ]
  },
  {
   "cell_type": "code",
   "execution_count": 2,
   "id": "e3f8d72e",
   "metadata": {},
   "outputs": [
    {
     "data": {
      "text/html": [
       "<div>\n",
       "<style scoped>\n",
       "    .dataframe tbody tr th:only-of-type {\n",
       "        vertical-align: middle;\n",
       "    }\n",
       "\n",
       "    .dataframe tbody tr th {\n",
       "        vertical-align: top;\n",
       "    }\n",
       "\n",
       "    .dataframe thead th {\n",
       "        text-align: right;\n",
       "    }\n",
       "</style>\n",
       "<table border=\"1\" class=\"dataframe\">\n",
       "  <thead>\n",
       "    <tr style=\"text-align: right;\">\n",
       "      <th></th>\n",
       "      <th>Name of company</th>\n",
       "      <th>Measure X</th>\n",
       "    </tr>\n",
       "  </thead>\n",
       "  <tbody>\n",
       "    <tr>\n",
       "      <th>0</th>\n",
       "      <td>Allied Signal</td>\n",
       "      <td>0.2423</td>\n",
       "    </tr>\n",
       "    <tr>\n",
       "      <th>1</th>\n",
       "      <td>Bankers Trust</td>\n",
       "      <td>0.2553</td>\n",
       "    </tr>\n",
       "    <tr>\n",
       "      <th>2</th>\n",
       "      <td>General Mills</td>\n",
       "      <td>0.2541</td>\n",
       "    </tr>\n",
       "    <tr>\n",
       "      <th>3</th>\n",
       "      <td>ITT Industries</td>\n",
       "      <td>0.2414</td>\n",
       "    </tr>\n",
       "    <tr>\n",
       "      <th>4</th>\n",
       "      <td>J.P.Morgan &amp; Co.</td>\n",
       "      <td>0.2962</td>\n",
       "    </tr>\n",
       "    <tr>\n",
       "      <th>5</th>\n",
       "      <td>Lehman Brothers</td>\n",
       "      <td>0.2825</td>\n",
       "    </tr>\n",
       "    <tr>\n",
       "      <th>6</th>\n",
       "      <td>Marriott</td>\n",
       "      <td>0.2581</td>\n",
       "    </tr>\n",
       "    <tr>\n",
       "      <th>7</th>\n",
       "      <td>MCI</td>\n",
       "      <td>0.2439</td>\n",
       "    </tr>\n",
       "    <tr>\n",
       "      <th>8</th>\n",
       "      <td>Merrill Lynch</td>\n",
       "      <td>0.4026</td>\n",
       "    </tr>\n",
       "    <tr>\n",
       "      <th>9</th>\n",
       "      <td>Microsoft</td>\n",
       "      <td>0.3295</td>\n",
       "    </tr>\n",
       "    <tr>\n",
       "      <th>10</th>\n",
       "      <td>Morgan Stanley</td>\n",
       "      <td>0.9136</td>\n",
       "    </tr>\n",
       "    <tr>\n",
       "      <th>11</th>\n",
       "      <td>Sun Microsystems</td>\n",
       "      <td>0.2599</td>\n",
       "    </tr>\n",
       "    <tr>\n",
       "      <th>12</th>\n",
       "      <td>Travelers</td>\n",
       "      <td>0.3942</td>\n",
       "    </tr>\n",
       "    <tr>\n",
       "      <th>13</th>\n",
       "      <td>US Airways</td>\n",
       "      <td>0.2671</td>\n",
       "    </tr>\n",
       "    <tr>\n",
       "      <th>14</th>\n",
       "      <td>Warner-Lambert</td>\n",
       "      <td>0.3500</td>\n",
       "    </tr>\n",
       "  </tbody>\n",
       "</table>\n",
       "</div>"
      ],
      "text/plain": [
       "     Name of company  Measure X\n",
       "0      Allied Signal     0.2423\n",
       "1      Bankers Trust     0.2553\n",
       "2      General Mills     0.2541\n",
       "3     ITT Industries     0.2414\n",
       "4   J.P.Morgan & Co.     0.2962\n",
       "5    Lehman Brothers     0.2825\n",
       "6           Marriott     0.2581\n",
       "7                MCI     0.2439\n",
       "8      Merrill Lynch     0.4026\n",
       "9          Microsoft     0.3295\n",
       "10    Morgan Stanley     0.9136\n",
       "11  Sun Microsystems     0.2599\n",
       "12         Travelers     0.3942\n",
       "13        US Airways     0.2671\n",
       "14    Warner-Lambert     0.3500"
      ]
     },
     "execution_count": 2,
     "metadata": {},
     "output_type": "execute_result"
    }
   ],
   "source": [
    "df=pd.read_excel(\"Book1.xlsx\")\n",
    "df"
   ]
  },
  {
   "cell_type": "code",
   "execution_count": 3,
   "id": "385b5f3c",
   "metadata": {},
   "outputs": [
    {
     "data": {
      "text/plain": [
       "0     0.2423\n",
       "1     0.2553\n",
       "2     0.2541\n",
       "3     0.2414\n",
       "4     0.2962\n",
       "5     0.2825\n",
       "6     0.2581\n",
       "7     0.2439\n",
       "8     0.4026\n",
       "9     0.3295\n",
       "10    0.9136\n",
       "11    0.2599\n",
       "12    0.3942\n",
       "13    0.2671\n",
       "14    0.3500\n",
       "Name: Measure X, dtype: float64"
      ]
     },
     "execution_count": 3,
     "metadata": {},
     "output_type": "execute_result"
    }
   ],
   "source": [
    "df_x=df[\"Measure X\"]\n",
    "df_x"
   ]
  },
  {
   "cell_type": "code",
   "execution_count": 4,
   "id": "593ddcf6",
   "metadata": {},
   "outputs": [
    {
     "data": {
      "text/plain": [
       "count    15.000000\n",
       "mean      0.332713\n",
       "std       0.169454\n",
       "min       0.241400\n",
       "25%       0.254700\n",
       "50%       0.267100\n",
       "75%       0.339750\n",
       "max       0.913600\n",
       "Name: Measure X, dtype: float64"
      ]
     },
     "execution_count": 4,
     "metadata": {},
     "output_type": "execute_result"
    }
   ],
   "source": [
    "df_x.describe()"
   ]
  },
  {
   "cell_type": "code",
   "execution_count": 8,
   "id": "057723c4",
   "metadata": {},
   "outputs": [
    {
     "name": "stdout",
     "output_type": "stream",
     "text": [
      "Mean: 0.333 \n",
      " standard_deviation: 0.169 \n",
      " variance: 0.339\n"
     ]
    }
   ],
   "source": [
    "print(\"Mean:\",round(df_x.mean(),3),\"\\n standard_deviation:\",round(df_x.std(),3),\"\\n variance:\",round((df_x.std())*2,3))"
   ]
  },
  {
   "cell_type": "markdown",
   "id": "8d8667ab",
   "metadata": {},
   "source": [
    "###  distribution plot"
   ]
  },
  {
   "cell_type": "code",
   "execution_count": 5,
   "id": "43632eaf",
   "metadata": {},
   "outputs": [
    {
     "data": {
      "image/png": "[encoded data removed]",
      "text/plain": [
       "<Figure size 432x288 with 1 Axes>"
      ]
     },
     "metadata": {
      "needs_background": "light"
     },
     "output_type": "display_data"
    }
   ],
   "source": [
    "sns.distplot(a=df_x,color=\"red\",label=\"measure of X\")\n",
    "plt.show()"
   ]
  },
  {
   "cell_type": "code",
   "execution_count": 9,
   "id": "e95e5c4d",
   "metadata": {},
   "outputs": [
    {
     "data": {
      "text/plain": [
       "0        Allied Signal\n",
       "1        Bankers Trust\n",
       "2        General Mills\n",
       "3       ITT Industries\n",
       "4     J.P.Morgan & Co.\n",
       "5      Lehman Brothers\n",
       "6             Marriott\n",
       "7                  MCI\n",
       "8        Merrill Lynch\n",
       "9            Microsoft\n",
       "10      Morgan Stanley\n",
       "11    Sun Microsystems\n",
       "12           Travelers\n",
       "13          US Airways\n",
       "14      Warner-Lambert\n",
       "Name: Name of company, dtype: object"
      ]
     },
     "execution_count": 9,
     "metadata": {},
     "output_type": "execute_result"
    }
   ],
   "source": [
    "df[\"Name of company\"]"
   ]
  },
  {
   "cell_type": "markdown",
   "id": "5a01c0e5",
   "metadata": {},
   "source": [
    "### box-plot"
   ]
  },
  {
   "cell_type": "code",
   "execution_count": 23,
   "id": "e48557d7",
   "metadata": {},
   "outputs": [
    {
     "data": {
      "image/png": "[encoded data removed]",
      "text/plain": [
       "<Figure size 576x432 with 1 Axes>"
      ]
     },
     "metadata": {
      "needs_background": "light"
     },
     "output_type": "display_data"
    }
   ],
   "source": [
    "plt.figure(figsize=(8,6))\n",
    "sns.boxplot( x=None,y=df_x,data=df,color=None)\n",
    "plt.show()"
   ]
  },
  {
   "cell_type": "code",
   "execution_count": 11,
   "id": "c8babe09",
   "metadata": {},
   "outputs": [],
   "source": [
    "q3=0.35\n",
    "q1=0.25\n",
    "IQR=0.1\n",
    "max=q3+(1.5*IQR)\n",
    "min=q1-(1.5*IQR)"
   ]
  },
  {
   "cell_type": "code",
   "execution_count": 12,
   "id": "4f36d8e7",
   "metadata": {},
   "outputs": [
    {
     "name": "stdout",
     "output_type": "stream",
     "text": [
      "0.5 0.09999999999999998\n"
     ]
    }
   ],
   "source": [
    "print(max,min)"
   ]
  },
  {
   "cell_type": "code",
   "execution_count": 13,
   "id": "eb9fca88",
   "metadata": {},
   "outputs": [
    {
     "name": "stdout",
     "output_type": "stream",
     "text": [
      "The outlier is: 10    0.9136\n",
      "Name: Measure X, dtype: float64\n"
     ]
    }
   ],
   "source": [
    "print(\"The outlier is:\",df_x[df_x>0.5])"
   ]
  },
  {
   "cell_type": "markdown",
   "id": "43d579cf",
   "metadata": {},
   "source": [
    "#### The outlier is:=   0.9136     or  91.36%"
   ]
  },
  {
   "cell_type": "code",
   "execution_count": null,
   "id": "bbc376f8",
   "metadata": {},
   "outputs": [],
   "source": []
  }
 ],
 "metadata": {
  "kernelspec": {
   "display_name": "Python 3 (ipykernel)",
   "language": "python",
   "name": "python3"
  },
  "language_info": {
   "codemirror_mode": {
    "name": "ipython",
    "version": 3
   },
   "file_extension": ".py",
   "mimetype": "text/x-python",
   "name": "python",
   "nbconvert_exporter": "python",
   "pygments_lexer": "ipython3",
   "version": "3.9.7"
  }
 },
 "nbformat": 4,
 "nbformat_minor": 5
}
