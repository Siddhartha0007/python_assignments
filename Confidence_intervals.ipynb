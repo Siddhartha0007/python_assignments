{
 "cells": [
  {
   "cell_type": "code",
   "execution_count": 6,
   "id": "0f7978e7",
   "metadata": {},
   "outputs": [],
   "source": [
    "import numpy as np\n",
    "import scipy as sc \n",
    "from scipy import stats\n",
    "import pandas as pd\n",
    "import matplotlib.pyplot as plt\n",
    "import seaborn as sns"
   ]
  },
  {
   "cell_type": "code",
   "execution_count": 40,
   "id": "fa78b33f",
   "metadata": {},
   "outputs": [
    {
     "data": {
      "text/plain": [
       "0.5199388058383725"
      ]
     },
     "execution_count": 40,
     "metadata": {},
     "output_type": "execute_result"
    }
   ],
   "source": [
    "stats.norm.cdf(0.05)"
   ]
  },
  {
   "cell_type": "code",
   "execution_count": 13,
   "id": "f0542740",
   "metadata": {},
   "outputs": [
    {
     "data": {
      "text/plain": [
       "0.5194465064762994"
      ]
     },
     "execution_count": 13,
     "metadata": {},
     "output_type": "execute_result"
    }
   ],
   "source": [
    "stats.t.cdf(0.05,df=10)"
   ]
  },
  {
   "cell_type": "code",
   "execution_count": 14,
   "id": "7d35f602",
   "metadata": {},
   "outputs": [
    {
     "data": {
      "text/plain": [
       "(-1.959963984540054, 1.959963984540054)"
      ]
     },
     "execution_count": 14,
     "metadata": {},
     "output_type": "execute_result"
    }
   ],
   "source": [
    "stats.norm.interval(0.95)"
   ]
  },
  {
   "cell_type": "code",
   "execution_count": 17,
   "id": "fecd8159",
   "metadata": {},
   "outputs": [
    {
     "data": {
      "text/plain": [
       "(-2.2281388519649385, 2.2281388519649385)"
      ]
     },
     "execution_count": 17,
     "metadata": {},
     "output_type": "execute_result"
    }
   ],
   "source": [
    "stats.t.interval(0.95,df=10)"
   ]
  },
  {
   "cell_type": "code",
   "execution_count": 28,
   "id": "020fceb9",
   "metadata": {},
   "outputs": [
    {
     "data": {
      "text/plain": [
       "0.10043372051146988"
      ]
     },
     "execution_count": 28,
     "metadata": {},
     "output_type": "execute_result"
    }
   ],
   "source": [
    "stats.norm.ppf(0.54)"
   ]
  },
  {
   "cell_type": "code",
   "execution_count": 31,
   "id": "55cd9d24",
   "metadata": {},
   "outputs": [
    {
     "data": {
      "text/plain": [
       "(-2.3263478740408408, 2.3263478740408408)"
      ]
     },
     "execution_count": 31,
     "metadata": {},
     "output_type": "execute_result"
    }
   ],
   "source": [
    "stats.norm.interval(0.98)"
   ]
  },
  {
   "cell_type": "code",
   "execution_count": 34,
   "id": "f8bdabc0",
   "metadata": {},
   "outputs": [
    {
     "data": {
      "text/plain": [
       "0.0928"
      ]
     },
     "execution_count": 34,
     "metadata": {},
     "output_type": "execute_result"
    }
   ],
   "source": [
    "2.32*0.04"
   ]
  },
  {
   "cell_type": "code",
   "execution_count": 29,
   "id": "d81679c2",
   "metadata": {},
   "outputs": [
    {
     "data": {
      "text/plain": [
       "49.0"
      ]
     },
     "execution_count": 29,
     "metadata": {},
     "output_type": "execute_result"
    }
   ],
   "source": [
    "1.96/0.04"
   ]
  },
  {
   "cell_type": "code",
   "execution_count": 30,
   "id": "87b0d54e",
   "metadata": {},
   "outputs": [
    {
     "data": {
      "text/plain": [
       "2401"
      ]
     },
     "execution_count": 30,
     "metadata": {},
     "output_type": "execute_result"
    }
   ],
   "source": [
    "49*49"
   ]
  },
  {
   "cell_type": "code",
   "execution_count": 35,
   "id": "89d6aaf0",
   "metadata": {},
   "outputs": [
    {
     "data": {
      "text/plain": [
       "25.0"
      ]
     },
     "execution_count": 35,
     "metadata": {},
     "output_type": "execute_result"
    }
   ],
   "source": [
    "2.32/0.0928"
   ]
  },
  {
   "cell_type": "code",
   "execution_count": 33,
   "id": "faedd6db",
   "metadata": {},
   "outputs": [
    {
     "data": {
      "text/plain": [
       "3364"
      ]
     },
     "execution_count": 33,
     "metadata": {},
     "output_type": "execute_result"
    }
   ],
   "source": [
    "58*58\n"
   ]
  },
  {
   "cell_type": "code",
   "execution_count": 36,
   "id": "1a5ae4e9",
   "metadata": {},
   "outputs": [
    {
     "data": {
      "text/plain": [
       "24.5"
      ]
     },
     "execution_count": 36,
     "metadata": {},
     "output_type": "execute_result"
    }
   ],
   "source": [
    "49*0.5"
   ]
  },
  {
   "cell_type": "code",
   "execution_count": 37,
   "id": "ef313be4",
   "metadata": {},
   "outputs": [
    {
     "data": {
      "text/plain": [
       "600.25"
      ]
     },
     "execution_count": 37,
     "metadata": {},
     "output_type": "execute_result"
    }
   ],
   "source": [
    "24.5*24.5"
   ]
  },
  {
   "cell_type": "code",
   "execution_count": 38,
   "id": "6debe30b",
   "metadata": {},
   "outputs": [
    {
     "data": {
      "text/plain": [
       "57.99999999999999"
      ]
     },
     "execution_count": 38,
     "metadata": {},
     "output_type": "execute_result"
    }
   ],
   "source": [
    "2.32/0.04"
   ]
  },
  {
   "cell_type": "code",
   "execution_count": 39,
   "id": "6c9402ef",
   "metadata": {},
   "outputs": [
    {
     "data": {
      "text/plain": [
       "841"
      ]
     },
     "execution_count": 39,
     "metadata": {},
     "output_type": "execute_result"
    }
   ],
   "source": [
    "29*29\n"
   ]
  },
  {
   "cell_type": "code",
   "execution_count": 49,
   "id": "73dc714d",
   "metadata": {},
   "outputs": [
    {
     "data": {
      "text/plain": [
       "0.8943502263331446"
      ]
     },
     "execution_count": 49,
     "metadata": {},
     "output_type": "execute_result"
    }
   ],
   "source": [
    "stats.norm.cdf(1.25)"
   ]
  },
  {
   "cell_type": "code",
   "execution_count": 50,
   "id": "d9079ac4",
   "metadata": {},
   "outputs": [
    {
     "data": {
      "text/plain": [
       "0.10564977366685535"
      ]
     },
     "execution_count": 50,
     "metadata": {},
     "output_type": "execute_result"
    }
   ],
   "source": [
    "stats.norm.cdf(-1.25)"
   ]
  },
  {
   "cell_type": "code",
   "execution_count": 51,
   "id": "376a1590",
   "metadata": {},
   "outputs": [
    {
     "data": {
      "text/plain": [
       "0.7887004526662893"
      ]
     },
     "execution_count": 51,
     "metadata": {},
     "output_type": "execute_result"
    }
   ],
   "source": [
    "stats.norm.cdf(1.25)-stats.norm.cdf(-1.25)"
   ]
  },
  {
   "cell_type": "code",
   "execution_count": 52,
   "id": "8883b47d",
   "metadata": {},
   "outputs": [
    {
     "data": {
      "text/plain": [
       "0.21130000000000004"
      ]
     },
     "execution_count": 52,
     "metadata": {},
     "output_type": "execute_result"
    }
   ],
   "source": [
    "1-0.7887\n"
   ]
  },
  {
   "cell_type": "code",
   "execution_count": 57,
   "id": "6c104788",
   "metadata": {},
   "outputs": [
    {
     "data": {
      "text/plain": [
       "1.959963984540054"
      ]
     },
     "execution_count": 57,
     "metadata": {},
     "output_type": "execute_result"
    }
   ],
   "source": [
    "stats.norm.ppf(0.975)"
   ]
  },
  {
   "cell_type": "code",
   "execution_count": 58,
   "id": "b7d5ce40",
   "metadata": {},
   "outputs": [
    {
     "data": {
      "text/plain": [
       "0.392"
      ]
     },
     "execution_count": 58,
     "metadata": {},
     "output_type": "execute_result"
    }
   ],
   "source": [
    "1.96/5"
   ]
  },
  {
   "cell_type": "code",
   "execution_count": 59,
   "id": "0ff1ff75",
   "metadata": {},
   "outputs": [
    {
     "data": {
      "text/plain": [
       "15.68"
      ]
     },
     "execution_count": 59,
     "metadata": {},
     "output_type": "execute_result"
    }
   ],
   "source": [
    "0.392*40"
   ]
  },
  {
   "cell_type": "code",
   "execution_count": 62,
   "id": "1a153597",
   "metadata": {},
   "outputs": [
    {
     "data": {
      "text/plain": [
       "245.86239999999998"
      ]
     },
     "execution_count": 62,
     "metadata": {},
     "output_type": "execute_result"
    }
   ],
   "source": [
    "15.68*15.68"
   ]
  },
  {
   "cell_type": "code",
   "execution_count": null,
   "id": "2afb58e1",
   "metadata": {},
   "outputs": [],
   "source": []
  }
 ],
 "metadata": {
  "kernelspec": {
   "display_name": "Python 3 (ipykernel)",
   "language": "python",
   "name": "python3"
  },
  "language_info": {
   "codemirror_mode": {
    "name": "ipython",
    "version": 3
   },
   "file_extension": ".py",
   "mimetype": "text/x-python",
   "name": "python",
   "nbconvert_exporter": "python",
   "pygments_lexer": "ipython3",
   "version": "3.9.7"
  }
 },
 "nbformat": 4,
 "nbformat_minor": 5
}
