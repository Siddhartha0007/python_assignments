{
 "cells": [
  {
   "cell_type": "code",
   "execution_count": 4,
   "id": "d87f884f",
   "metadata": {},
   "outputs": [],
   "source": [
    "import scipy \n",
    "from scipy import stats\n",
    "import numpy as np\n",
    "import pandas as pd\n"
   ]
  },
  {
   "cell_type": "code",
   "execution_count": 2,
   "id": "33d13ef4",
   "metadata": {},
   "outputs": [
    {
     "data": {
      "text/plain": [
       "0.625"
      ]
     },
     "execution_count": 2,
     "metadata": {},
     "output_type": "execute_result"
    }
   ],
   "source": [
    "5/8\n"
   ]
  },
  {
   "cell_type": "code",
   "execution_count": 3,
   "id": "2b2a0da3",
   "metadata": {},
   "outputs": [
    {
     "data": {
      "text/plain": [
       "0.7340144709512995"
      ]
     },
     "execution_count": 3,
     "metadata": {},
     "output_type": "execute_result"
    }
   ],
   "source": [
    "stats.norm.cdf(0.625)"
   ]
  },
  {
   "cell_type": "code",
   "execution_count": 4,
   "id": "c40d89a2",
   "metadata": {},
   "outputs": [
    {
     "data": {
      "text/plain": [
       "0.266"
      ]
     },
     "execution_count": 4,
     "metadata": {},
     "output_type": "execute_result"
    }
   ],
   "source": [
    "1-0.734"
   ]
  },
  {
   "cell_type": "code",
   "execution_count": 5,
   "id": "fbc2dea5",
   "metadata": {},
   "outputs": [
    {
     "data": {
      "text/plain": [
       "48.483413929021985"
      ]
     },
     "execution_count": 5,
     "metadata": {},
     "output_type": "execute_result"
    }
   ],
   "source": [
    "stats.norm.ppf(q=0.005 ,loc=100,scale=20)"
   ]
  },
  {
   "cell_type": "code",
   "execution_count": 6,
   "id": "b545e222",
   "metadata": {},
   "outputs": [
    {
     "data": {
      "text/plain": [
       "51.5"
      ]
     },
     "execution_count": 6,
     "metadata": {},
     "output_type": "execute_result"
    }
   ],
   "source": [
    "100-48.5"
   ]
  },
  {
   "cell_type": "code",
   "execution_count": 1,
   "id": "22c44cbf",
   "metadata": {},
   "outputs": [],
   "source": [
    "lst=[-2000,-1000,0,1000,2000,3000]"
   ]
  },
  {
   "cell_type": "code",
   "execution_count": 2,
   "id": "ed9305bc",
   "metadata": {},
   "outputs": [
    {
     "data": {
      "text/plain": [
       "[-2000, -1000, 0, 1000, 2000, 3000]"
      ]
     },
     "execution_count": 2,
     "metadata": {},
     "output_type": "execute_result"
    }
   ],
   "source": [
    "lst"
   ]
  },
  {
   "cell_type": "code",
   "execution_count": 5,
   "id": "1782e5b7",
   "metadata": {},
   "outputs": [
    {
     "data": {
      "text/plain": [
       "0   -2000\n",
       "1   -1000\n",
       "2       0\n",
       "3    1000\n",
       "4    2000\n",
       "5    3000\n",
       "dtype: int64"
      ]
     },
     "execution_count": 5,
     "metadata": {},
     "output_type": "execute_result"
    }
   ],
   "source": [
    "ser=pd.Series(lst)\n",
    "ser"
   ]
  },
  {
   "cell_type": "code",
   "execution_count": 7,
   "id": "dba707c2",
   "metadata": {},
   "outputs": [
    {
     "data": {
      "text/plain": [
       "1871"
      ]
     },
     "execution_count": 7,
     "metadata": {},
     "output_type": "execute_result"
    }
   ],
   "source": [
    "round(ser.std())"
   ]
  },
  {
   "cell_type": "code",
   "execution_count": null,
   "id": "46629c39",
   "metadata": {},
   "outputs": [],
   "source": []
  }
 ],
 "metadata": {
  "kernelspec": {
   "display_name": "Python 3 (ipykernel)",
   "language": "python",
   "name": "python3"
  },
  "language_info": {
   "codemirror_mode": {
    "name": "ipython",
    "version": 3
   },
   "file_extension": ".py",
   "mimetype": "text/x-python",
   "name": "python",
   "nbconvert_exporter": "python",
   "pygments_lexer": "ipython3",
   "version": "3.9.7"
  }
 },
 "nbformat": 4,
 "nbformat_minor": 5
}
